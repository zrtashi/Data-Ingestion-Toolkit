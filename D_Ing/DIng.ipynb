{
 "cells": [
  {
   "cell_type": "code",
   "execution_count": 2,
   "metadata": {},
   "outputs": [],
   "source": [
    "#Data Ingestion\n",
    "from langchain_community.document_loaders import TextLoader"
   ]
  },
  {
   "cell_type": "code",
   "execution_count": null,
   "metadata": {},
   "outputs": [
    {
     "data": {
      "text/plain": [
       "[Document(metadata={'source': 'loaders.txt'}, page_content=\"LangChain offers a variety of loaders to ingest different types of data into your applications. \\nHere's a breakdown of some commonly used loaders:\\nDocument Loaders:\\n\\uf0b7 CSVLoader: Loads data from Comma-Separated Values (CSV) files.\\n\\uf0b7 DirectoryLoader: Loads documents from a specified directory, recursively if desired.\\n\\uf0b7 HTMLLoader: Loads HTML content from web pages or local files.\\n\\uf0b7 JSONLoader: Loads data from JSON files.\\n\\uf0b7 MarkdownLoader: Loads Markdown formatted text.\\n\\uf0b7 MicrosoftOfficeLoader: Loads documents from Microsoft Office formats (e.g., Word, \\nExcel, PowerPoint).\\n\\uf0b7 PDFLoader: Loads PDF documents.\\n\\uf0b7 UnstructuredFileLoader: Loads unstructured text from various file formats.\\nWeb-Based Loaders:\\n\\uf0b7 URLLoader: Loads content from a specified URL.\\n\\uf0b7 SeleniumURLLoader: Loads web pages using the Selenium WebDriver.\\n\\uf0b7 PlaywrightURLLoader: Loads web pages using the Playwright framework.\\nOther Loaders:\\n\\uf0b7 CustomDocumentLoader: Allows you to create custom loaders for specific data formats \\nor sources.\\n\\uf0b7 CoNLL-U Loader: Loads data in the CoNLL-U format, commonly used for natural \\nlanguage processing tasks.\\n\\uf0b7 Airbyte JSON Loader: Loads data from Airbyte JSON files.\\n\\uf0b7 Apify Dataset Loader: Loads data from Apify datasets.\\n\\uf0b7 Azure Blob Storage Container Loader: Loads data from Azure Blob Storage \\ncontainers.\\n\\uf0b7 Azure Blob Storage File Loader: Loads data from Azure Blob Storage files.\\n\\uf0b7 BigQuery Loader: Loads data from BigQuery tables.\\n\\uf0b7 Bilibili Loader: Loads data from Bilibili videos.\\n\\uf0b7 Blackboard Loader: Loads data from Blackboard courses.\\n\\uf0b7 College Confidential Loader: Loads data from College Confidential forums.\\n\\uf0b7 Copy Paste Loader: Loads data from a clipboard.\\n\\uf0b7 DataFrame Loader: Loads data from Pandas DataFrames.\\n\\uf0b7 DuckDB Loader: Loads data from DuckDB databases.\\n\\uf0b7 Email Loader: Loads data from email messages.\\n\\uf0b7 EPubs Loader: Loads data from EPUB files.\\n\\uf0b7 EverNote Loader: Loads data from Evernote notebooks.\\n\\uf0b7 Facebook Chat Loader: Loads data from Facebook chat messages.\\n\\uf0b7 Figma Loader: Loads data from Figma designs.\\n\\uf0b7 GCS Directory Loader: Loads data from Google Cloud Storage directories.\\n\\uf0b7 GCS File Storage Loader: Loads data from Google Cloud Storage files.\\n\\uf0b7 Git Loader: Loads data from Git repositories.\\n\\uf0b7 GitBook Loader: Loads data from GitBook books.\\n\\uf0b7 Google Drive Loader: Loads data from Google Drive files.\\n\\uf0b7 Gutenberg Loader: Loads data from Project Gutenberg books.\\n\\uf0b7 Hacker News Loader: Loads data from Hacker News articles.\\n\\uf0b7 IMSDb Loader: Loads data from Internet Movie Script Database.\\n\\uf0b7 Markdown Loader: Loads data from Markdown files.\\n\\uf0b7 Notebook Loader: Loads data from Jupyter notebooks.\\n\\uf0b7 Notion DB Loader: Loads data from Notion databases.\\n\\uf0b7 Obsidian Loader: Loads data from Obsidian vaults.\\n\\uf0b7 PowerPoint Loader: Loads data from PowerPoint presentations.\\n\\uf0b7 ReadTheDocs Documentation Loader: Loads data from ReadTheDocs documentation.\\n\\uf0b7 Roam Loader: Loads data from Roam Research graphs.\\n\\uf0b7 S3 Directory Loader: Loads data from Amazon S3 directories.\\n\\uf0b7 S3 File Loader: Loads data from Amazon S3 files.\\n\\uf0b7 Sitemap Loader: Loads data from XML sitemaps.\\n\\uf0b7 Slack (Local Exported Zipfile) Loader: Loads data from Slack messages (exported as a \\nzip file).\\n\\uf0b7 Subtitle Files Loader: Loads data from subtitle files.\\n\\uf0b7 Telegram Loader: Loads data from Telegram chats.\\nThis is just a partial list of the available loaders in LangChain. The choice of loader depends on \\nthe specific data format and source you are working with.\")]"
      ]
     },
     "execution_count": 3,
     "metadata": {},
     "output_type": "execute_result"
    }
   ],
   "source": [
    "#Text loader\n",
    "loader = TextLoader(\"loaders.txt\")\n",
    "loader.load()"
   ]
  },
  {
   "cell_type": "code",
   "execution_count": 4,
   "metadata": {},
   "outputs": [
    {
     "name": "stderr",
     "output_type": "stream",
     "text": [
      "USER_AGENT environment variable not set, consider setting it to identify your requests.\n"
     ]
    }
   ],
   "source": [
    "#webbased loader\n",
    "from langchain_community.document_loaders import WebBaseLoader\n",
    "import bs4"
   ]
  },
  {
   "cell_type": "code",
   "execution_count": 5,
   "metadata": {},
   "outputs": [],
   "source": [
    "loader = WebBaseLoader(\"https://www.xevensolutions.com/blog/benefits-of-automation-in-healthcare/\")"
   ]
  },
  {
   "cell_type": "code",
   "execution_count": 6,
   "metadata": {},
   "outputs": [
    {
     "data": {
      "text/plain": [
       "[Document(metadata={'source': 'https://www.xevensolutions.com/blog/benefits-of-automation-in-healthcare/', 'title': '7 Benefits of Healthcare Automation You Should Know', 'description': 'In this blog, we will learn about the top 7 benefits of automation in healthcare, from improving efficiency to enhancing patient care.', 'language': 'en-US'}, page_content='\\n\\n\\n\\n\\n\\n\\n7 Benefits of Healthcare Automation You Should Know\\n\\n\\n\\n\\n\\n\\n\\n\\n\\n\\n\\n\\n\\n\\n\\n\\n\\n\\n\\n\\n\\n\\n\\n\\n\\n\\n\\n\\n\\n\\n\\n\\n\\n\\n\\n\\n\\n\\n\\n\\n\\n\\n\\n\\n\\n\\n\\n\\n\\n\\n\\n\\n\\n\\n\\n\\n\\n\\n\\n\\n\\n\\n\\n\\n\\n\\n\\n\\n\\n\\n\\n\\n\\n\\n\\n\\n\\n\\n\\n\\n \\n\\n\\n\\n\\n\\n \\n\\n\\n\\n\\n\\n\\n\\n\\n\\n\\n\\n\\nServices\\n\\nAI Development Services AI Chatbot Development Predictive Modelling\\u200b Mobile App Development Chat GPT Integrations Custom Software Natural Language Processing Machine Learning DevOps Computer Vision\\u200b Custom Web Development Staff Augmentation UI UX Design\\n\\nSalesforce\\nIndustries\\n\\nHealthTech EdTech FinTech GreenTech Internet of Things Retail AI Diagnostics E-Commerce Smart Healthcare HIPAA Compliance\\n\\nPortfolio\\nCompany\\n\\nAbout Us Life at Xeven\\n\\nResource\\n\\nBlogs Gallery Careers\\n\\nContact Us\\n\\n\\n\\n\\nX\\n \\n\\n\\n\\n\\n\\n\\n\\n\\n\\n\\n\\n\\n\\n\\n\\n\\n\\n\\n\\n \\n\\n\\n\\n\\n\\n\\n\\n\\n\\n\\n\\n \\n971-56-813-6243\\n\\n\\n\\n\\n\\n\\n\\n\\n\\n\\n\\n\\n\\n\\nFree AI Consultation\\n\\n\\n\\n\\n\\n\\n\\n\\n\\n\\n\\n\\n\\n\\n\\n\\n \\nOctober 18, 2024\\n\\nTop 7 Benefits of Automation in Healthcare\\n\\n\\n\\nTable of Contents\\nToggle\\nThe Changing Landscape of HealthcareTop 7 Benefits of Automation in Healthcare1. Improved Efficiency in Administrative Processes2. Enhanced Patient Experience3. Reduction in Human Error4. Cost Savings5. Streamlined Data Management and Analysis6. Improved Compliance and Security7. Better Workforce ManagementConclusion\\nAutomation has touched nearly every industry, and healthcare is no exception. Integrating automation in healthcare processes rapidly transforms how hospitals, clinics, and other medical institutions operate. With the increasing demand for quality care and the growing complexity of administrative tasks, adopting automation in healthcare is becoming a necessity.\\xa0\\nAutomation enables better resource management, improves patient care, and improves both clinical and non-clinical workflows. According to the survey by Towards Healthcare, The global healthcare automation market was valued at USD 34.50 billion in 2022. It is estimated to become a USD 80.28 billion market by 2032 and is projected to grow at 9.3% CAGR. The artificial intelligence segment by technology accounted for the largest 42.6% market share.\\n\\nBut what exactly are the benefits, and why should healthcare providers consider automating their systems? In this blog, we will explore the top seven benefits of automation in healthcare, highlighting how it can change the industry for the better.\\nThe Changing Landscape of Healthcare\\nOver the years, healthcare has grown far beyond the simple doctor-patient interaction. Today, healthcare professionals are inundated with responsibilities such as maintaining electronic health records (EHRs), billing, scheduling, and even managing supply chains.\\xa0\\nOn top of that, they must keep up with the rising demand for personalized, efficient care. This is where automation comes in, offering a solution that reduces manual tasks, improves efficiency, and allows healthcare providers to focus more on their patients.\\nAutomation in healthcare is not just about the technology; it’s about creating a more sustainable healthcare system, where time-consuming tasks are handled by machines, enabling human workers to concentrate on caring for patients.\\nTop 7 Benefits of Automation in Healthcare\\n1. Improved Efficiency in Administrative Processes\\n\\nOne of the most immediate benefits of automation in healthcare is the enhancement of administrative tasks. Processes such as appointment scheduling, patient check-ins, billing, and medical coding can be automated, reducing the time and effort required from human staff. Healthcare providers often spend a large portion of their day dealing with paperwork and managing the business side of their practice.\\xa0\\nFor example, appointment scheduling systems powered by automation can automatically send reminders to patients, reducing no-shows and improving the clinic’s overall efficiency. Additionally, automated billing systems can ensure that medical codes are accurate and insurance claims are processed faster, leading to quicker reimbursements and fewer financial discrepancies.\\nRead More: Benefits of EHR Systems in Healthcare for Providers and Patients\\n2. Enhanced Patient Experience\\nAutomation in healthcare doesn’t just benefit healthcare professionals, it also improves the patient experience. By automating repetitive tasks, healthcare providers can focus more on delivering high-quality, personalized care. For example, automated systems can improve the process of patient registration and make it easier for patients to access their medical records, make appointments, and receive notifications about upcoming check-ups or test results.\\nMoreover, automation helps reduce patient wait times. When administrative tasks such as patient registration and insurance verification are automated, patients spend less time in waiting rooms and more time with their healthcare providers. This leads to higher levels of patient satisfaction and loyalty, as they receive quicker and more efficient service.\\n3. Reduction in Human Error\\nMedical errors are a significant concern in healthcare. From medication mistakes to incorrect diagnoses, human error can have serious consequences for patients. Automation helps minimize these errors by ensuring data entry, medication administration, and diagnosis accuracy. Automated systems can flag potential issues, such as drug interactions or incorrect dosages before they reach the patient.\\nFor example, automated drug dispensing systems in hospitals can track medication orders and ensure patients receive the correct medications at the right times. These systems can also cross-check patient records for allergies and other contraindications, significantly reducing the risk of adverse drug events.\\nIn diagnostics, artificial intelligence and machine learning technologies are being used to analyze medical images, detect patterns, and provide more accurate diagnoses. While AI isn’t meant to replace human doctors, it can serve as an additional layer of analysis to catch errors that might otherwise go unnoticed.\\n4. Cost Savings\\n\\nOne of the most compelling reasons for adopting automation in healthcare is the potential for cost savings. By automating tasks that were previously done manually, healthcare organizations can reduce labor costs, cut down on administrative expenses, and operate more efficiently.\\nAutomation reduces the need for excessive paperwork, minimizes time spent on administrative tasks, and decreases the chances of costly errors. Additionally, automation can help optimize the use of resources such as staff, equipment, and supplies, ensuring that these resources are utilized more efficiently.\\nFor example, by automating supply chain management, hospitals can better track inventory levels and avoid overstocking or running out of critical supplies. This saves money and also ensures that healthcare providers have the tools they need to deliver care effectively.\\n5. Streamlined Data Management and Analysis\\nThe amount of data generated in healthcare is staggering, and managing this data can be a daunting task. Automation can streamline the process of collecting, storing, and analyzing healthcare data, making it easier for healthcare providers to access and use the information they need.\\nAutomated systems can organize patient records, lab results, and treatment histories, providing healthcare professionals with a complete view of the patient’s medical history. This leads to better decision-making and more personalized treatment plans.\\nMoreover, automation can assist in data analysis, helping healthcare providers identify trends, patterns, and potential health risks. For example, predictive analytics powered by AI can analyze patient data to predict the likelihood of certain health conditions, allowing for earlier intervention and more proactive care.\\nRead More: HIPAA Compliance Checklist: How to Meet Standards\\n6. Improved Compliance and Security\\nIn the healthcare industry, compliance with regulations such as the Health Insurance Portability and Accountability Act (HIPAA) is important. Automation can help ensure that healthcare providers remain compliant by automating processes such as data storage, access control, and audit logging.\\nAutomated systems can track and monitor who has accessed patient records, ensuring that only authorized personnel have access to sensitive information. Additionally, these systems can automatically generate reports for regulatory audits, saving time and reducing the risk of non-compliance.\\nAutomation also enhances data security by reducing the risk of human error, such as accidentally sharing patient information or misplacing sensitive documents. Automated encryption and backup systems can protect patient data from breaches and ensure that it is securely stored.\\n7. Better Workforce Management\\n\\nHealthcare professionals, particularly nurses and doctors, are often overworked and overwhelmed by the sheer volume of tasks they need to manage daily. Automation helps reduce their workload by taking over repetitive, low-value tasks, allowing healthcare workers to focus on patient care and more complex duties.\\nFor example, automated staff scheduling systems can create optimal shift patterns that reduce burnout and ensure enough staff members are on hand to meet patient needs. This leads to better staff satisfaction and retention, which in turn improves the quality of care provided to patients.\\nFurthermore, automation can facilitate continuous professional development by providing automated training modules and tracking staff certifications. This ensures that healthcare workers are always up-to-date with the latest protocols and best practices, improving the overall quality of care.\\nConclusion\\nAutomation in healthcare is a present-day reality transforming how healthcare providers deliver care. By automating administrative tasks, improving patient experience, reducing human error, and saving costs, healthcare providers can create a more efficient, accurate, and patient-centered system.\\nAs automation technologies evolve, their role in healthcare will only become more prominent. From better data management to enhanced compliance and security, automation has the potential to address many of the challenges facing healthcare today.\\xa0 The future of healthcare lies in the smart integration of technology, and automation is leading the charge.\\n \\n\\n\\n\\n\\n\\n\\nAbout the Author: Aima Aizaz \\n\\n\\n\\n\\n\\n\\n\\n \\n\\n\\n\\n\\n\\n\\n\\nAima is a skilled content writer specializing in the fields of tech and emerging technologies. She is passionate about staying up-to-date with the latest trends and creates engaging and informative content that simplifies complex concepts. Combining a strong technical background with excellent writing skills, she delivers articles, blog posts, and guides that captivate readers and provide valuable insights into the world of technology. \\n\\n\\n\\n\\n\\n\\n\\n\\n\\n\\n\\n\\n \\n\\n\\n\\n\\n\\n\\nJoin Our Community: Sign Up for Exclusive Newsletter \\n\\n\\n\\n\\n\\n \\n\\n\\n\\n\\n\\n\\n\\n\\n\\n\\n\\n\\n\\n\\n\\n\\n\\n\\n\\n\\n\\n\\n\\n\\n\\n\\n\\nRecent Posts \\n\\n\\n\\n \\n\\n\\n\\n\\n\\n\\n\\n\\n\\n\\n\\n\\n\\n\\t\\t\\t\\t\\t\\tThe Benefits of Electronic Medical Records for Doctors\\t\\t\\t\\t\\t\\n\\n\\n\\n\\n\\n\\n\\n\\n\\n\\n\\n\\n\\n\\n\\n\\n\\n\\n\\n\\n\\t\\t\\t\\t\\t\\t10 Benefits of Outsourcing Medical Billing Services for Healthcare Providers & Organizations\\t\\t\\t\\t\\t\\n\\n\\n\\n\\n\\n\\n\\n\\n\\n\\n\\n\\n\\n\\n\\n\\n\\n\\n\\n\\n\\t\\t\\t\\t\\t\\tWhat is Revenue Cycle Management (RCM) in Healthcare? A Guide for Medical Businesses\\t\\t\\t\\t\\t\\n\\n\\n\\n\\n\\n\\n\\n\\n\\n\\n\\n\\n\\n\\n\\n\\n\\n\\n\\n\\n\\t\\t\\t\\t\\t\\tTop 7 Benefits of Automation in Healthcare\\t\\t\\t\\t\\t\\n\\n\\n\\n\\n\\n\\n\\n\\n\\n\\n\\n\\n\\n\\n\\n\\n\\n\\n\\n\\n\\t\\t\\t\\t\\t\\tXeven Solutions and The Bank of Punjab Partner to Empower Fintech with Artificial Intelligence\\t\\t\\t\\t\\t\\n\\n\\n\\n\\n\\n\\n\\n\\n \\n\\n\\n\\n\\n\\n\\n\\n\\n\\n\\n\\n\\n\\n\\n\\n\\n\\n\\n\\n\\n \\n\\n\\n\\n\\nShaping technology for the future \\n\\n\\n\\n\\n\\n\\nFacebook\\n \\n\\n\\n\\nLinkedin\\n \\n\\n\\n\\nInstagram\\n \\n\\n\\n\\n\\nx-twitter-svg \\n\\n\\n\\nYoutube\\n \\n\\n\\n\\n\\n\\n\\n\\n\\n\\n\\nServices \\n\\n\\n\\n\\n\\n\\nPredictive Modelling\\u200b\\n\\n\\n\\n\\nChat GPT Integration\\n\\n\\n\\n\\nNatural Language Processing\\n\\n\\n\\n\\nMachine Learning\\n\\n\\n\\n\\nComputer Vision\\n\\n\\n\\n\\nBig Data Analytics\\n\\n\\n\\n\\n\\n\\n\\n\\n\\n\\n\\nGet In Touch \\n\\n\\n\\n\\n\\n\\n\\n \\n+12678000191\\n\\n\\n\\n\\n\\n \\ninfo@xevensolutions.com\\n\\n\\n\\n\\n\\n\\n\\n\\n\\n\\n\\n \\nUnited Arab Emirates\\n\\n\\n\\n\\n\\n \\nPakistan\\n\\n\\n\\n\\n\\n \\nUnited Kingdom\\n\\n\\n\\n\\n\\n \\nUnited States\\n\\n\\n\\n\\n\\n\\n\\n\\n\\n\\n\\nJoin Our Newsletter \\n\\n\\n\\n\\n\\n \\n\\n\\n\\n\\n\\n\\n\\n\\n\\n\\n\\n\\n\\n\\n\\n\\n\\n\\n\\n\\n\\n\\n\\n\\n\\n\\n\\n\\n\\n\\n\\n2024 © Xeven Solutions. All rights reserved. \\n\\n\\n\\n\\n\\n\\n\\n\\n\\n\\nCareer\\n\\n\\n\\n\\nPrivacy Policy\\n\\n\\n\\n\\n\\n\\n\\n\\n\\n\\n\\n\\n\\n\\n\\n\\n\\n\\n\\nThe owner of this website has made a commitment to accessibility and inclusion, please report any problems that you encounter using the contact form on this website. This site uses the WP ADA Compliance Check plugin to enhance accessibility.\\n\\n\\n\\n\\n\\n\\n\\n\\n\\n\\n\\n\\n\\n\\nLive Chat\\n\\n\\n\\n\\n\\n\\n\\n\\n\\n\\n\\n\\n \\n\\n\\n\\n\\n\\n\\n\\n\\n\\n\\n\\n\\n\\n\\n\\n\\n\\n\\n\\n\\n\\n\\n\\n\\n\\n\\n\\n\\n\\n\\n\\n\\n\\n\\n\\n\\n\\n\\n\\n\\n\\n\\n\\n\\n\\n\\n\\n\\n\\n\\n\\n\\n\\n\\n\\n\\n\\n\\n\\n\\n\\n\\n\\n\\n\\n')]"
      ]
     },
     "execution_count": 6,
     "metadata": {},
     "output_type": "execute_result"
    }
   ],
   "source": [
    "data = loader.load()\n",
    "data"
   ]
  },
  {
   "cell_type": "code",
   "execution_count": 7,
   "metadata": {},
   "outputs": [
    {
     "data": {
      "text/plain": [
       "[Document(metadata={'source': 'https://www.espn.com/', 'title': 'ESPN - Serving Sports Fans. Anytime. Anywhere.', 'description': 'Visit ESPN for live scores, highlights and sports news. Stream exclusive games on ESPN+ and play fantasy sports.', 'language': 'en'}, page_content=\"\\n\\n\\n\\n\\n\\n\\n\\n\\nESPN - Serving Sports Fans. Anytime. Anywhere.\\n\\n\\n\\n\\n\\n\\n\\n\\n\\n\\n\\n\\n\\n\\n\\n\\n\\n\\n\\n\\n\\n\\n\\n\\n\\n\\n\\n\\n\\n\\n\\n\\n\\n\\n\\n\\n\\n\\n\\n\\n\\n\\n\\n\\n\\n\\n\\n\\n\\n\\n\\n\\n\\n\\n\\n\\n\\n\\n\\n\\n\\n\\n\\n\\n\\n\\n\\n\\n\\n\\n\\n\\n\\n\\n\\n\\n\\n\\n\\n\\n\\n\\n\\n\\n\\n\\n\\n\\n\\n\\n\\n\\n        Skip to main content\\n    \\n\\n        Skip to navigation\\n    \\n\\n\\n\\n\\n\\n\\n\\n\\n\\n\\n\\n\\n\\n\\n\\n\\n\\n\\n\\n\\n\\n\\n\\n\\n\\n\\n\\n\\n\\n\\n\\n\\n\\n<\\n\\n>\\n\\n\\n\\n\\n\\n\\n\\n\\n\\nMenuESPN\\n\\n\\n\\n\\n\\nscores\\n\\n\\n\\n\\nNEW! Find where to watch all of your favorite sports!\\n\\n\\n\\n\\n\\n\\n\\nNFLNBAMLBNCAAFNHLSoccerMMAMore SportsBoxingCFLNCAACricketF1GolfHorseLLWSNASCARNBA G LeagueNBA Summer LeagueNCAAMNCAAWNWSLOlympicsPLLProfessional WrestlingRacingRN BBRN FBRugbySports BettingTennisWNBAX GamesUFLFantasyWatchESPN BETESPN+\\n\\n\\n\\n\\n\\n\\n\\n\\n\\n\\n\\n\\n\\n\\n\\n  \\n\\nSubscribe Now\\n\\n\\n\\n\\n\\nNHL\\n\\n\\n\\n\\n\\n\\n\\nNCAA Women's Basketball\\n\\n\\n\\n\\n\\n\\n\\nNCAA Men's Basketball\\n\\n\\n\\n\\n\\n\\n\\nTop Rank Boxing\\n\\n\\n\\n\\n\\n\\n\\nLALIGA\\n\\n\\n\\n\\n\\n\\n\\nBundesliga\\n\\n\\n\\n\\n\\n\\n\\nEnglish Women's Super League\\n\\n\\n\\n\\n\\n\\n\\nNCAA Women's Volleyball\\n\\n\\n\\n\\n\\n\\n\\nUFC 309: Jones vs. Miocic (Nov. 16, ESPN+ PPV)\\n\\n\\nQuick Links\\n\\n\\n\\n\\nWhere To Watch\\n\\n\\n\\n\\n\\n\\n\\nMLB Free Agency\\n\\n\\n\\n\\n\\n\\n\\nCollege Football Rankings\\n\\n\\n\\n\\n\\n\\n\\nCollege Football Schedule\\n\\n\\n\\n\\n\\n\\n\\n2024 NFL Schedule\\n\\n\\n\\n\\n\\n\\n\\nESPN Radio: Listen Live\\n\\n\\n\\n\\n\\n\\nFavorites\\n\\n\\n\\n\\n\\n\\n      Manage Favorites\\n      \\n\\n\\n\\nCustomize ESPNCreate AccountLog InFantasy\\n\\n\\n\\n\\nFootball\\n\\n\\n\\n\\n\\n\\n\\nBaseball\\n\\n\\n\\n\\n\\n\\n\\nBasketball\\n\\n\\n\\n\\n\\n\\n\\nHockey\\n\\n\\nESPN Sites\\n\\n\\n\\n\\nESPN Deportes\\n\\n\\n\\n\\n\\n\\n\\nAndscape\\n\\n\\n\\n\\n\\n\\n\\nespnW\\n\\n\\n\\n\\n\\n\\n\\nESPNFC\\n\\n\\n\\n\\n\\n\\n\\nX Games\\n\\n\\n\\n\\n\\n\\n\\nSEC Network\\n\\n\\nESPN Apps\\n\\n\\n\\n\\nESPN\\n\\n\\n\\n\\n\\n\\n\\nESPN Fantasy\\n\\n\\n\\n\\n\\n\\n\\nTournament Challenge\\n\\n\\nFollow ESPN\\n\\n\\n\\n\\nFacebook\\n\\n\\n\\n\\n\\n\\n\\nX/Twitter\\n\\n\\n\\n\\n\\n\\n\\nInstagram\\n\\n\\n\\n\\n\\n\\n\\nSnapchat\\n\\n\\n\\n\\n\\n\\n\\nTikTok\\n\\n\\n\\n\\n\\n\\n\\nYouTube\\n\\n\\nJa'Marr Chase lights it up with 264-yard, 3-TD night, but Bengals fall short vs. Ravens10h1:40Lamar Jackson, Ravens pull out AFC North thriller over BengalsJackson's career-long 84-yard TD pass was one of four touchdown passes and among several highlights.11hJamison Hensley and Ben Baby\\n\\n\\n\\nChase's magnificent leaping TD undercut by failed 2-point try10h0:58\\n\\n\\nBurrow frustrated by late no-call: 'I've never really gotten those calls'9h0:52\\n\\n\\nZac Taylor addresses Bengals' failed 2-point try10h0:33\\n\\n\\nCanty: Everybody better have Lamar over Burrow on top QB lists1h0:45\\n\\n\\nLamar dazzles with jump pass for his 4th touchdown11h0:21\\n\\n\\nChase torches Ravens for 80-yard TD, taunts them on goal line11h0:49\\n\\n\\nLamar Jackson's magical run sets up a Ravens touchdown11h0:39\\n\\n\\nBurrow and Chase connect for a 67-yard Bengals touchdown11h0:25\\n\\n\\n\\nTOP HEADLINESLamar's perfect 4th saves day: 'He's carrying us'Burrow, Chase's brilliance wasted as Bengals fallBucs give $10K to family of fan killed in accidentLakers assign Bronny to G League South Bay teamBucks tweak starting 5, use 'energy' to end skidWemby 'not worried,' expects Popovich back soonNCAA makes CHL players eligible for Division IChelsea break record with 8 goals to sink NoahJay Bilas' men's hoops rankings, 1-68MLB OFFSEASON'We think our time is coming': What we learned about this offseason at MLB GM meetingsFrom clubs fresh off October runs to front offices looking to level up, here are the priorities for some of this winter's most intriguing teams.3hJesse RogersElsa/Getty ImagesLatest rumors and buzzGEARING UP FOR THE WEEKEND13 more games in NFL Week 10, 13 must-read matchup previews: We have predictions, picks and keys to victoryHere's everything you need to know for Week 10 NFL games. Which teams will win, who are the X factors, and which storylines matter most?4hNFL Nation(AP Photo/Charlie Riedel)How NFL refs decide who gets ejected (or not) for head hitsHow can a player cause a concussion and not get ejected, while another is tossed for a milder hit to the head?4hKevin SeifertBest bets for Week 10Latest buzzCOLORADO IN THE PLAYOFF?Was Deion right? How Colorado flipped the script on defense and the O-line to build a Big 12 contenderColorado is bound for the postseason, but not just that, the Buffs have a realistic shot at winning the Big 12 and reaching the playoff.3hKyle BonaguraChristopher Hook/Icon SportswireInsiders' buzz: What can we learn from the first CFP ranking?COMING UP CLUTCH!Collin O'Connor hits the reverse layup in final seconds to secure Stony Brook win12h0:17Walter Clayton Jr. throws down epic poster for Gators12h0:20'We're going to need everybody': Inside Kansas' offseason overhaulBill Self was thinking about this season before the previous one ended. The result: a stacked, deep roster that should help Kansas avoid another down season.2hJeff BorzelloTrevor Ruszkowski-USA TODAY SportsWORLD WIDE TECHNOLOGY CHAMPIONSHIPCONTINUES THROUGH SUNDAYHOW THEY STACK UPNHL Power Rankings: Jets stay on top, plus every team's points pace vs. preseason projectionWinnipeg remains the team to beat in the standings and in our poll. And which teams are furthest off their preseason point total from ESPN BET?3hESPN staffESPN IllustrationReal or not? Judging early returns from all 32 NHL teamsWill the Golden Knights continue to be a juggernaut? We rate all of the teams on our 1-to-10 scale.1dGreg WyshynskiAROUND THE ASSOCIATIONFRIDAY NIGHT DOUBLEHEADER ON ESPNBucks trade targets and 'The Clippers East': This week's NBA intelWhat deals, stars and storylines are league insiders buzzing about? Tim Bontemps and Brian Windhorst share their latest intel.2hTim Bontemps and Brian WindhorstMitchell Leff/Getty ImagesLeBron's quest for 82 games -- and how the Lakers' new style can helpThe last time LeBron played 82 games, he made the NBA Finals with the Cavs.1dChris Herring and Matt WilliamsDoncic vs. Booker timeline: From the 'Luka special' to Christmas congrats Top HeadlinesLamar's perfect 4th saves day: 'He's carrying us'Burrow, Chase's brilliance wasted as Bengals fallBucs give $10K to family of fan killed in accidentLakers assign Bronny to G League South Bay teamBucks tweak starting 5, use 'energy' to end skidWemby 'not worried,' expects Popovich back soonNCAA makes CHL players eligible for Division IChelsea break record with 8 goals to sink NoahJay Bilas' men's hoops rankings, 1-68Favorites FantasyManage FavoritesFantasy HomeCustomize ESPNCreate AccountLog InICYMI0:52'Unreal!' Stanford scores from beyond midfield to win in final secondsDefender Dylan Hooper scores an incredible goal from beyond the midfield stripe to lift Stanford to an opening-round win over Notre Dame in the ACC tournament. Best of ESPN+Frank Jansky/Icon Sportswire2024 NFL trade deadline winners, losers: Chiefs, Cowboys, moreWhich teams made the best -- and worst -- moves before the NFL trade deadline? We have thoughts on the Za'Darius Smith and Jonathan Mingo deals and more.ESPNRankings, contract projections for top 50 MLB free agentsHow much will the biggest stars get paid this winter? Kiley McDaniel breaks down this offseason's free agent class.Scott W. Grau/Icon SportswireCollege football Week 11 buzz: Who will be the last undefeated team? Can Colorado have two Heisman finalists?The first College Football Playoff rankings are out! Our experts break down what they mean about the rest of the season.AP Photo/David ZalubowskiReal or not? Examining eight key NBA early-season trendsA record number of 3-pointers? Will the Warriors cool off? Judging which of the top trends from the first two weeks will stick and which will falter. Trending NowESPNThe battle withinPat Tillman's friendly fire death leads to 20 years of trauma for his platoonIllustration by ESPN2024 NFL midseason awards picks: Best players, rookies, coachesNine weeks in, here's how the races for NFL MVP, Offensive Player of the Year, Defensive Rookie of the Year and more awards are shaping up.Illustration by ESPNAdam Sandler's got next: Tales of the comedian's pickup basketball gamesAdam Sandler is one of the wealthiest and most iconic comedians of all time. But to his fellow pickup hoopers, he's known as much for his passing abilities as his punchlines.ESPNWay-too-early 2025 MLB Power Rankings: Who's No. 1?The Dodgers just won the 2024 World Series -- and we're already looking ahead to next year. Sign up for FREE!Create A LeagueJoin a Public LeagueReactivate a LeaguePractice With a Mock DraftSign up for FREE!Create A LeagueJoin a Public LeagueReactivate a LeaguePractice with a Mock DraftGet a custom ESPN experienceEnjoy the benefits of a personalized accountSelect your favorite leagues, teams and players and get the latest scores, news and updates that matter most to you. \\n\\nFeatured\\n\\n\\n\\n\\nParis Olympics\\n\\n\\n\\n\\n\\n\\n\\nEuro 2024\\n\\n\\n\\n\\n\\n\\n\\nCopa America\\n\\n\\n\\n\\n\\n\\n\\nIPL 2024\\n\\n\\n\\n\\n\\n\\n\\nEnglish Premier League\\n\\n\\n\\n\\n\\n\\n\\nLa Liga\\n\\n\\n\\n\\n\\n\\n\\nUEFA Champions League\\n\\n\\n\\n\\n\\n\\n\\nEuropa League\\n\\n\\n\\n\\n\\n\\n\\nSerie A\\n\\n\\n\\n\\n\\n\\n\\nBundesliga\\n\\n\\n\\n\\n\\n\\n\\nUltimate Fighting Championship\\n\\n\\n\\n\\n\\n\\n\\nIndian Super League\\n\\n\\n\\n\\n\\n\\n\\nI-League\\n\\n\\nFeatured Sports\\n\\n\\n\\n\\nKabaddi\\n\\n\\n\\n\\n\\n\\n\\nHockey\\n\\n\\n\\n\\n\\n\\n\\nBadminton\\n\\n\\n\\n\\n\\n\\n\\nWrestling\\n\\n\\nFollow ESPN India\\n\\n\\n\\n\\nFacebook\\n\\n\\n\\n\\n\\n\\n\\nTwitter\\n\\n\\n\\n\\n\\n\\n\\nInstagram\\n\\n\\nQuick Links\\n\\n\\n\\nOffice Sports Quiz\\n\\n\\nESPN Sites\\n\\n\\n\\n\\nThe Cricket Monthly\\n\\n\\n\\n\\n\\n\\n\\nAndscape\\n\\n\\n\\n\\n\\n\\n\\nDoubletruck\\n\\n\\nTerms of UsePrivacy PolicyInterest-Based Ads© ESPN Enterprises, Inc. All rights reserved.\\n\\n\\n\\n\\n\\n\\n\\n\\n\\n\\n\\n\\n\\n\\n\\n\\n\\n\"),\n",
       " Document(metadata={'source': 'https://google.com', 'title': 'Google', 'language': 'en-PK'}, page_content='GoogleSearch Images Maps Play YouTube News Gmail Drive More »Web History | Settings | Sign in\\xa0Advanced searchGoogle offered in:  اردو پښتو سنڌي AdvertisingAbout GoogleGoogle.com.pk© 2024 - Privacy - Terms  '),\n",
       " Document(metadata={'source': 'https://www.linkedin.com/feed/', 'title': '\\n            \\n          LinkedIn Login, Sign in | LinkedIn\\n      \\n        ', 'description': 'Login to LinkedIn to keep in touch with people you know, share ideas, and build your career.', 'language': 'en-US'}, page_content='\\n\\n\\n\\n\\n\\n\\n\\n            \\n          LinkedIn Login, Sign in | LinkedIn\\n      \\n        \\n\\n\\n\\n\\n\\n\\n\\n\\n\\n\\n\\n\\n\\n\\n\\n\\n\\n\\n\\n\\n\\n\\n\\n\\n\\n\\n\\n\\n\\n\\n\\n\\n\\n\\n\\n\\n\\n\\n\\n\\n\\n\\n\\n\\n\\n\\n\\n\\n\\n\\n\\n\\n\\n \\n\\n\\n\\n\\n\\n\\n\\n\\n\\n\\n\\n\\n\\n\\n\\n\\n\\n\\n\\n\\n\\n\\n\\n\\n\\n\\n\\n\\n\\n \\n\\n\\n\\n\\n\\n\\n\\n\\n\\n        Sign in\\n    \\n\\n              Stay updated on your professional world.\\n          \\n\\n\\n\\n\\n\\n\\n\\n\\n \\n\\n          Email or phone\\n        \\n\\n \\n\\n\\n \\n\\n\\n\\n\\n\\n\\n\\n\\n\\n\\n\\n\\n \\n\\n\\n\\n\\n\\n\\n\\n\\n\\n\\n\\n \\n\\n            Password\\n        \\n\\n        Show\\n      \\n\\n \\n\\n\\n            Forgot password?\\n          \\n\\n\\n\\n \\n              Sign in\\n          \\n\\n\\n\\n\\nor\\n\\n\\n\\n          By clicking Continue, you agree to LinkedIn’s User Agreement, Privacy Policy, and Cookie Policy.\\n        \\n\\n\\n\\n\\n\\n\\n\\n\\n\\n        Sign in with Apple\\n      \\n\\n\\n\\n\\n\\n\\n\\n\\n\\n          Sign in with a passkey\\n      \\n\\n \\n\\n\\n\\n\\n\\n\\n\\n            We’ve emailed a one-time link to your primary email address\\n        \\nClick on the link to sign in instantly to your LinkedIn account.\\n\\n\\n\\n\\n\\n\\n\\nIf you don’t see the email in your inbox, check your spam folder.\\n\\n          Resend email\\n        \\n\\n          Back\\n        \\n\\n\\n\\n\\n\\n          \\n    \\n    \\n\\n    New to LinkedIn? Join now\\n\\n\\n\\n\\n\\n\\n\\n\\n\\n\\n              Agree & Join LinkedIn\\n            \\n\\n              By clicking Continue, you agree to LinkedIn’s User Agreement, Privacy Policy, and Cookie Policy.\\n            \\n\\n\\n\\n\\n\\n \\n\\n\\n\\n\\n\\n\\n\\n\\n\\n\\n\\n\\n\\n\\n\\n\\n\\n\\n\\n\\n\\n\\n\\n\\n\\n\\n\\n\\n\\n\\n\\n\\n\\n\\n\\n\\n\\n\\n\\n\\n\\n\\n\\n\\n                LinkedIn\\n              \\n              © 2024\\n            \\n\\n\\n\\n\\n\\n                    User Agreement\\n                  \\n\\n\\n\\n                  Privacy Policy\\n                \\n\\n \\n\\n                  Community Guidelines\\n                \\n\\n\\n\\n                  Cookie Policy\\n                \\n\\n\\n\\n                  Copyright Policy\\n                \\n\\n\\n\\n                  Send Feedback\\n                \\n\\n\\n\\n\\nLanguage\\n\\n\\n\\n\\n\\n\\n\\n\\n\\n\\n                      العربية (Arabic)\\n                  \\n\\n\\n\\n                      বাংলা (Bangla)\\n                  \\n\\n\\n\\n                      Čeština (Czech)\\n                  \\n\\n\\n\\n                      Dansk (Danish)\\n                  \\n\\n\\n\\n                      Deutsch (German)\\n                  \\n\\n\\n\\n                      Ελληνικά (Greek)\\n                  \\n\\n\\n\\nEnglish (English)\\n\\n\\n\\n\\n                      Español (Spanish)\\n                  \\n\\n\\n\\n                      فارسی (Persian)\\n                  \\n\\n\\n\\n                      Suomi (Finnish)\\n                  \\n\\n\\n\\n                      Français (French)\\n                  \\n\\n\\n\\n                      हिंदी (Hindi)\\n                  \\n\\n\\n\\n                      Magyar (Hungarian)\\n                  \\n\\n\\n\\n                      Bahasa Indonesia (Indonesian)\\n                  \\n\\n\\n\\n                      Italiano (Italian)\\n                  \\n\\n\\n\\n                      עברית (Hebrew)\\n                  \\n\\n\\n\\n                      日本語 (Japanese)\\n                  \\n\\n\\n\\n                      한국어 (Korean)\\n                  \\n\\n\\n\\n                      मराठी (Marathi)\\n                  \\n\\n\\n\\n                      Bahasa Malaysia (Malay)\\n                  \\n\\n\\n\\n                      Nederlands (Dutch)\\n                  \\n\\n\\n\\n                      Norsk (Norwegian)\\n                  \\n\\n\\n\\n                      ਪੰਜਾਬੀ (Punjabi)\\n                  \\n\\n\\n\\n                      Polski (Polish)\\n                  \\n\\n\\n\\n                      Português (Portuguese)\\n                  \\n\\n\\n\\n                      Română (Romanian)\\n                  \\n\\n\\n\\n                      Русский (Russian)\\n                  \\n\\n\\n\\n                      Svenska (Swedish)\\n                  \\n\\n\\n\\n                      తెలుగు (Telugu)\\n                  \\n\\n\\n\\n                      ภาษาไทย (Thai)\\n                  \\n\\n\\n\\n                      Tagalog (Tagalog)\\n                  \\n\\n\\n\\n                      Türkçe (Turkish)\\n                  \\n\\n\\n\\n                      Українська (Ukrainian)\\n                  \\n\\n\\n\\n                      Tiếng Việt (Vietnamese)\\n                  \\n\\n\\n\\n                      简体中文 (Chinese (Simplified))\\n                  \\n\\n\\n\\n                      正體中文 (Chinese (Traditional))\\n                  \\n\\n\\n\\n\\n\\n\\n \\n\\n\\n\\n\\n\\n\\n\\n\\n\\n\\n\\n\\n\\n\\n\\n\\n\\n\\n\\n\\n\\n\\n\\n\\n\\n\\n\\n\\n\\n\\n\\n\\n\\n\\n\\n\\n\\n\\n\\n\\n\\n\\n\\n\\n\\n\\n\\n\\n\\n\\n\\n\\n\\n\\n\\n\\n\\n\\n\\n\\n\\n\\n\\n\\n\\n\\n\\n \\n \\n\\n\\n\\n')]"
      ]
     },
     "execution_count": 7,
     "metadata": {},
     "output_type": "execute_result"
    }
   ],
   "source": [
    "#Loading multiple webpages\n",
    "loader = WebBaseLoader([\"https://www.espn.com/\", \"https://google.com\", \"https://www.linkedin.com/feed/\"])\n",
    "docs = loader.load()\n",
    "docs"
   ]
  },
  {
   "cell_type": "code",
   "execution_count": 9,
   "metadata": {},
   "outputs": [
    {
     "name": "stdout",
     "output_type": "stream",
     "text": [
      "Note: you may need to restart the kernel to use updated packages.\n"
     ]
    }
   ],
   "source": [
    "%pip install --upgrade --quiet  nest_asyncio\n",
    "\n",
    "# fixes a bug with asyncio and jupyter\n",
    "import nest_asyncio\n",
    "\n",
    "nest_asyncio.apply()"
   ]
  },
  {
   "cell_type": "code",
   "execution_count": 10,
   "metadata": {},
   "outputs": [
    {
     "name": "stderr",
     "output_type": "stream",
     "text": [
      "d:\\RAG_applications\\rag_pipe\\venv\\lib\\site-packages\\langchain_community\\document_loaders\\web_base.py:262: UserWarning: For better logging of progress, `pip install tqdm`\n",
      "  warnings.warn(\"For better logging of progress, `pip install tqdm`\")\n"
     ]
    },
    {
     "data": {
      "text/plain": [
       "[Document(metadata={'source': 'https://www.espn.com/', 'title': 'ESPN - Serving Sports Fans. Anytime. Anywhere.', 'description': 'Visit ESPN for live scores, highlights and sports news. Stream exclusive games on ESPN+ and play fantasy sports.', 'language': 'en'}, page_content=\"\\n\\n\\n\\n\\n\\n\\n\\n\\nESPN - Serving Sports Fans. Anytime. Anywhere.\\n\\n\\n\\n\\n\\n\\n\\n\\n\\n\\n\\n\\n\\n\\n\\n\\n\\n\\n\\n\\n\\n\\n\\n\\n\\n\\n\\n\\n\\n\\n\\n\\n\\n\\n\\n\\n\\n\\n\\n\\n\\n\\n\\n\\n\\n\\n\\n\\n\\n\\n\\n\\n\\n\\n\\n\\n\\n\\n\\n\\n\\n\\n\\n\\n\\n\\n\\n\\n\\n\\n\\n\\n\\n\\n\\n\\n\\n\\n\\n\\n\\n\\n\\n\\n\\n\\n\\n\\n\\n\\n\\n\\n        Skip to main content\\n    \\n\\n        Skip to navigation\\n    \\n\\n\\n\\n\\n\\n\\n\\n\\n\\n\\n\\n\\n\\n\\n\\n\\n\\n\\n\\n\\n\\n\\n\\n\\n\\n\\n\\n\\n\\n\\n\\n\\n\\n<\\n\\n>\\n\\n\\n\\n\\n\\n\\n\\n\\n\\nMenuESPN\\n\\n\\n\\n\\n\\nscores\\n\\n\\n\\n\\nNEW! Find where to watch all of your favorite sports!\\n\\n\\n\\n\\n\\n\\n\\nNFLNBAMLBNCAAFNHLSoccerMMAMore SportsBoxingCFLNCAACricketF1GolfHorseLLWSNASCARNBA G LeagueNBA Summer LeagueNCAAMNCAAWNWSLOlympicsPLLProfessional WrestlingRacingRN BBRN FBRugbySports BettingTennisWNBAX GamesUFLFantasyWatchESPN BETESPN+\\n\\n\\n\\n\\n\\n\\n\\n\\n\\n\\n\\n\\n\\n\\n\\n  \\n\\nSubscribe Now\\n\\n\\n\\n\\n\\nNHL\\n\\n\\n\\n\\n\\n\\n\\nNCAA Women's Basketball\\n\\n\\n\\n\\n\\n\\n\\nNCAA Men's Basketball\\n\\n\\n\\n\\n\\n\\n\\nTop Rank Boxing\\n\\n\\n\\n\\n\\n\\n\\nLALIGA\\n\\n\\n\\n\\n\\n\\n\\nBundesliga\\n\\n\\n\\n\\n\\n\\n\\nEnglish Women's Super League\\n\\n\\n\\n\\n\\n\\n\\nNCAA Women's Volleyball\\n\\n\\n\\n\\n\\n\\n\\nUFC 309: Jones vs. Miocic (Nov. 16, ESPN+ PPV)\\n\\n\\nQuick Links\\n\\n\\n\\n\\nWhere To Watch\\n\\n\\n\\n\\n\\n\\n\\nMLB Free Agency\\n\\n\\n\\n\\n\\n\\n\\nCollege Football Rankings\\n\\n\\n\\n\\n\\n\\n\\nCollege Football Schedule\\n\\n\\n\\n\\n\\n\\n\\n2024 NFL Schedule\\n\\n\\n\\n\\n\\n\\n\\nESPN Radio: Listen Live\\n\\n\\n\\n\\n\\n\\nFavorites\\n\\n\\n\\n\\n\\n\\n      Manage Favorites\\n      \\n\\n\\n\\nCustomize ESPNCreate AccountLog InFantasy\\n\\n\\n\\n\\nFootball\\n\\n\\n\\n\\n\\n\\n\\nBaseball\\n\\n\\n\\n\\n\\n\\n\\nBasketball\\n\\n\\n\\n\\n\\n\\n\\nHockey\\n\\n\\nESPN Sites\\n\\n\\n\\n\\nESPN Deportes\\n\\n\\n\\n\\n\\n\\n\\nAndscape\\n\\n\\n\\n\\n\\n\\n\\nespnW\\n\\n\\n\\n\\n\\n\\n\\nESPNFC\\n\\n\\n\\n\\n\\n\\n\\nX Games\\n\\n\\n\\n\\n\\n\\n\\nSEC Network\\n\\n\\nESPN Apps\\n\\n\\n\\n\\nESPN\\n\\n\\n\\n\\n\\n\\n\\nESPN Fantasy\\n\\n\\n\\n\\n\\n\\n\\nTournament Challenge\\n\\n\\nFollow ESPN\\n\\n\\n\\n\\nFacebook\\n\\n\\n\\n\\n\\n\\n\\nX/Twitter\\n\\n\\n\\n\\n\\n\\n\\nInstagram\\n\\n\\n\\n\\n\\n\\n\\nSnapchat\\n\\n\\n\\n\\n\\n\\n\\nTikTok\\n\\n\\n\\n\\n\\n\\n\\nYouTube\\n\\n\\n'We think our time is coming': What we learned about this offseason at MLB GM meetingsFrom clubs fresh off October runs to front offices looking to level up, here are the priorities for some of this winter's most intriguing teams.3hJesse RogersElsa/Getty ImagesLatest rumors and buzzTOP HEADLINESLamar's perfect 4th saves day: 'He's carrying us'Burrow, Chase's brilliance wasted as Bengals fallBucs give $10K to family of fan killed in accidentLakers assign Bronny to G League South Bay teamBucks tweak starting 5, use 'energy' to end skidWemby 'not worried,' expects Popovich back soonNCAA makes CHL players eligible for Division IChelsea break record with 8 goals to sink NoahJay Bilas' men's hoops rankings, 1-68Ja'Marr Chase lights it up with 264-yard, 3-TD night, but Bengals fall short vs. Ravens11h1:40Lamar Jackson, Ravens pull out AFC North thriller over BengalsJackson's career-long 84-yard TD pass was one of four touchdown passes and among several highlights.11hJamison Hensley and Ben Baby\\n\\n\\n\\nChase's magnificent leaping TD undercut by failed 2-point try11h0:58\\n\\n\\nBurrow frustrated by late no-call: 'I've never really gotten those calls'9h0:52\\n\\n\\nZac Taylor addresses Bengals' failed 2-point try10h0:33\\n\\n\\nCanty: Everybody better have Lamar over Burrow on top QB lists2h0:45\\n\\n\\nLamar dazzles with jump pass for his 4th touchdown11h0:21\\n\\n\\nChase torches Ravens for 80-yard TD, taunts them on goal line11h0:49\\n\\n\\nLamar Jackson's magical run sets up a Ravens touchdown11h0:39\\n\\n\\nBurrow and Chase connect for a 67-yard Bengals touchdown11h0:25\\n\\n\\n\\nCOLORADO IN THE PLAYOFF?Was Deion right? How Colorado flipped the script on defense and the O-line to build a Big 12 contenderColorado is bound for the postseason, but not just that, the Buffs have a realistic shot at winning the Big 12 and reaching the playoff.3hKyle BonaguraChristopher Hook/Icon SportswireInsiders' buzz: What can we learn from the first CFP ranking?AROUND THE ASSOCIATIONFRIDAY NIGHT DOUBLEHEADER ON ESPNBucks trade targets and 'The Clippers East': This week's NBA intelWhat deals, stars and storylines are league insiders buzzing about? Tim Bontemps and Brian Windhorst share their latest intel.2hTim Bontemps and Brian WindhorstMitchell Leff/Getty ImagesLeBron's quest for 82 games -- and how the Lakers' new style can helpThe last time LeBron played 82 games, he made the NBA Finals with the Cavs.1dChris Herring and Matt WilliamsDoncic vs. Booker timeline: From the 'Luka special' to Christmas congratsGEARING UP FOR THE WEEKEND13 more games in NFL Week 10, 13 must-read matchup previews: We have predictions, picks and keys to victoryHere's everything you need to know for Week 10 NFL games. Which teams will win, who are the X factors, and which storylines matter most?4hNFL Nation(AP Photo/Charlie Riedel)How NFL refs decide who gets ejected (or not) for head hitsHow can a player cause a concussion and not get ejected, while another is tossed for a milder hit to the head?4hKevin SeifertBest bets for Week 10Latest buzzCOMING UP CLUTCH!Collin O'Connor hits the reverse layup in final seconds to secure Stony Brook win13h0:17Walter Clayton Jr. throws down epic poster for Gators12h0:20'We're going to need everybody': Inside Kansas' offseason overhaulBill Self was thinking about this season before the previous one ended. The result: a stacked, deep roster that should help Kansas avoid another down season.2hJeff BorzelloTrevor Ruszkowski-USA TODAY SportsWORLD WIDE TECHNOLOGY CHAMPIONSHIPCONTINUES THROUGH SUNDAYHOW THEY STACK UPNHL Power Rankings: Jets stay on top, plus every team's points pace vs. preseason projectionWinnipeg remains the team to beat in the standings and in our poll. And which teams are furthest off their preseason point total from ESPN BET?3hESPN staffESPN IllustrationReal or not? Judging early returns from all 32 NHL teamsWill the Golden Knights continue to be a juggernaut? We rate all of the teams on our 1-to-10 scale.1dGreg Wyshynski Top HeadlinesLamar's perfect 4th saves day: 'He's carrying us'Burrow, Chase's brilliance wasted as Bengals fallBucs give $10K to family of fan killed in accidentLakers assign Bronny to G League South Bay teamBucks tweak starting 5, use 'energy' to end skidWemby 'not worried,' expects Popovich back soonNCAA makes CHL players eligible for Division IChelsea break record with 8 goals to sink NoahJay Bilas' men's hoops rankings, 1-68Favorites FantasyManage FavoritesFantasy HomeCustomize ESPNCreate AccountLog InICYMI0:52'Unreal!' Stanford scores from beyond midfield to win in final secondsDefender Dylan Hooper scores an incredible goal from beyond the midfield stripe to lift Stanford to an opening-round win over Notre Dame in the ACC tournament. Best of ESPN+Frank Jansky/Icon Sportswire2024 NFL trade deadline winners, losers: Chiefs, Cowboys, moreWhich teams made the best -- and worst -- moves before the NFL trade deadline? We have thoughts on the Za'Darius Smith and Jonathan Mingo deals and more.ESPNRankings, contract projections for top 50 MLB free agentsHow much will the biggest stars get paid this winter? Kiley McDaniel breaks down this offseason's free agent class.Scott W. Grau/Icon SportswireCollege football Week 11 buzz: Who will be the last undefeated team? Can Colorado have two Heisman finalists?The first College Football Playoff rankings are out! Our experts break down what they mean about the rest of the season.AP Photo/David ZalubowskiReal or not? Examining eight key NBA early-season trendsA record number of 3-pointers? Will the Warriors cool off? Judging which of the top trends from the first two weeks will stick and which will falter. Trending NowESPNThe battle withinPat Tillman's friendly fire death leads to 20 years of trauma for his platoonIllustration by ESPN2024 NFL midseason awards picks: Best players, rookies, coachesNine weeks in, here's how the races for NFL MVP, Offensive Player of the Year, Defensive Rookie of the Year and more awards are shaping up.Illustration by ESPNAdam Sandler's got next: Tales of the comedian's pickup basketball gamesAdam Sandler is one of the wealthiest and most iconic comedians of all time. But to his fellow pickup hoopers, he's known as much for his passing abilities as his punchlines.ESPNWay-too-early 2025 MLB Power Rankings: Who's No. 1?The Dodgers just won the 2024 World Series -- and we're already looking ahead to next year. Sign up for FREE!Create A LeagueJoin a Public LeagueReactivate a LeaguePractice With a Mock DraftSign up for FREE!Create A LeagueJoin a Public LeagueReactivate a LeaguePractice with a Mock DraftGet a custom ESPN experienceEnjoy the benefits of a personalized accountSelect your favorite leagues, teams and players and get the latest scores, news and updates that matter most to you. \\n\\nESPN+\\n\\n\\n\\n\\nNHL\\n\\n\\n\\n\\n\\n\\n\\nNCAA Women's Basketball\\n\\n\\n\\n\\n\\n\\n\\nNCAA Men's Basketball\\n\\n\\n\\n\\n\\n\\n\\nTop Rank Boxing\\n\\n\\n\\n\\n\\n\\n\\nNCAA Women's Volleyball\\n\\n\\n\\n\\n\\n\\n\\nUFC 309: Jones vs. Miocic (Nov. 16, ESPN+ PPV)\\n\\n\\nQuick Links\\n\\n\\n\\n\\nWhere To Watch\\n\\n\\n\\n\\n\\n\\n\\nMLB Free Agency\\n\\n\\n\\n\\n\\n\\n\\nCollege Football Rankings\\n\\n\\n\\n\\n\\n\\n\\nCollege Football Schedule\\n\\n\\n\\n\\n\\n\\n\\n2024 NFL Schedule\\n\\n\\n\\n\\n\\n\\n\\nESPN Radio: Listen Live\\n\\n\\nFantasy\\n\\n\\n\\n\\nFootball\\n\\n\\n\\n\\n\\n\\n\\nBaseball\\n\\n\\n\\n\\n\\n\\n\\nBasketball\\n\\n\\n\\n\\n\\n\\n\\nHockey\\n\\n\\nESPN Sites\\n\\n\\n\\n\\nESPN Deportes\\n\\n\\n\\n\\n\\n\\n\\nAndscape\\n\\n\\n\\n\\n\\n\\n\\nespnW\\n\\n\\n\\n\\n\\n\\n\\nESPNFC\\n\\n\\n\\n\\n\\n\\n\\nX Games\\n\\n\\n\\n\\n\\n\\n\\nSEC Network\\n\\n\\nESPN Apps\\n\\n\\n\\n\\nESPN\\n\\n\\n\\n\\n\\n\\n\\nESPN Fantasy\\n\\n\\n\\n\\n\\n\\n\\nTournament Challenge\\n\\n\\nFollow ESPN\\n\\n\\n\\n\\nFacebook\\n\\n\\n\\n\\n\\n\\n\\nX/Twitter\\n\\n\\n\\n\\n\\n\\n\\nInstagram\\n\\n\\n\\n\\n\\n\\n\\nSnapchat\\n\\n\\n\\n\\n\\n\\n\\nTikTok\\n\\n\\n\\n\\n\\n\\n\\nYouTube\\n\\n\\nTerms of UsePrivacy PolicyInterest-Based Ads© ESPN Enterprises, Inc. All rights reserved.\\n\\n\\n\\n\\n\\n\\n\\n\\n\\n\\n\\n\\n\\n\\n\\n\\n\\n\"),\n",
       " Document(metadata={'source': 'https://google.com', 'title': 'Google', 'language': 'en-PK'}, page_content='GoogleSearch Images Maps Play YouTube News Gmail Drive More »Web History | Settings | Sign in\\xa0Advanced searchGoogle offered in:  اردو پښتو سنڌي AdvertisingAbout GoogleGoogle.com.pk© 2024 - Privacy - Terms  ')]"
      ]
     },
     "execution_count": 10,
     "metadata": {},
     "output_type": "execute_result"
    }
   ],
   "source": [
    "loader = WebBaseLoader([\"https://www.espn.com/\", \"https://google.com\"])\n",
    "loader.requests_per_second = 1\n",
    "docs = loader.aload()\n",
    "docs"
   ]
  },
  {
   "cell_type": "markdown",
   "metadata": {},
   "source": [
    "Loading a xml file, or using a different BeautifulSoup parser\n"
   ]
  },
  {
   "cell_type": "code",
   "execution_count": null,
   "metadata": {},
   "outputs": [],
   "source": [
    "loader = WebBaseLoader(\n",
    "    \"https://www.xevensolutions.com/blog/benefits-of-automation-in-healthcare/\"\n",
    ")\n",
    "loader.default_parser = \"xml\"\n",
    "docs = loader.load()\n",
    "docs"
   ]
  },
  {
   "cell_type": "markdown",
   "metadata": {},
   "source": [
    "The UnstructuredXMLLoader is used to load XML files. The loader works with .xml files. The page content will be the text extracted from the XML tags."
   ]
  },
  {
   "cell_type": "code",
   "execution_count": null,
   "metadata": {},
   "outputs": [],
   "source": [
    "from langchain_community.document_loaders import UnstructuredXMLLoader"
   ]
  },
  {
   "cell_type": "code",
   "execution_count": null,
   "metadata": {},
   "outputs": [],
   "source": [
    "loader = UnstructuredXMLLoader(\n",
    "    \"example_data/factbook.xml\",\n",
    ")\n",
    "docs = loader.load()\n",
    "docs[0]"
   ]
  },
  {
   "cell_type": "code",
   "execution_count": 12,
   "metadata": {},
   "outputs": [
    {
     "name": "stderr",
     "output_type": "stream",
     "text": [
      "d:\\RAG_applications\\rag_pipe\\venv\\lib\\site-packages\\pydantic\\main.py:212: RuntimeWarning: coroutine 'WebBaseLoader.fetch_all' was never awaited\n",
      "  validated_self = self.__pydantic_validator__.validate_python(data, self_instance=self)\n",
      "RuntimeWarning: Enable tracemalloc to get the object allocation traceback\n"
     ]
    }
   ],
   "source": [
    "from langchain_community.document_loaders.csv_loader import CSVLoader\n",
    "\n",
    "\n",
    "loader = CSVLoader(file_path='sales_data.csv')\n",
    "data = loader.load()"
   ]
  },
  {
   "cell_type": "code",
   "execution_count": null,
   "metadata": {},
   "outputs": [],
   "source": [
    "data"
   ]
  },
  {
   "cell_type": "code",
   "execution_count": 14,
   "metadata": {},
   "outputs": [],
   "source": [
    "from langchain_community.document_loaders import PyPDFLoader"
   ]
  },
  {
   "cell_type": "code",
   "execution_count": 15,
   "metadata": {},
   "outputs": [],
   "source": [
    "\n",
    "\n",
    "loader = PyPDFLoader(\"Use Cases of Retrieval.pdf\")\n",
    "pages = loader.load_and_split()"
   ]
  },
  {
   "cell_type": "markdown",
   "metadata": {},
   "source": [
    "**Using PyMuPDF**\n",
    "\n",
    "This is the fastest of the PDF parsing options, and contains detailed metadata about the PDF and its pages, as well as returns one document per page."
   ]
  },
  {
   "cell_type": "code",
   "execution_count": 16,
   "metadata": {},
   "outputs": [],
   "source": [
    "from langchain_community.document_loaders import PyMuPDFLoader"
   ]
  },
  {
   "cell_type": "code",
   "execution_count": 18,
   "metadata": {},
   "outputs": [],
   "source": [
    "loader = PyMuPDFLoader(\"Use Cases of Retrieval.pdf\")"
   ]
  },
  {
   "cell_type": "code",
   "execution_count": 19,
   "metadata": {},
   "outputs": [
    {
     "data": {
      "text/plain": [
       "[Document(metadata={'source': 'Use Cases of Retrieval.pdf', 'file_path': 'Use Cases of Retrieval.pdf', 'page': 0, 'total_pages': 5, 'format': 'PDF 1.5', 'title': '', 'author': 'Qadri Laptop', 'subject': '', 'keywords': '', 'creator': 'Microsoft® Word 2016', 'producer': 'Microsoft® Word 2016', 'creationDate': \"D:20240823212013+05'00'\", 'modDate': \"D:20240823212013+05'00'\", 'trapped': ''}, page_content='Use Cases of Retrieval-Augmented Generation (RAG) \\nRetrieval-Augmented Generation (RAG) is a powerful technique that combines the strengths of \\ninformation retrieval and generative models to create more accurate and informative outputs. \\nHere are some of its key use cases:    \\n \\n1. What Is Retrieval Augmented Generation (RAG)? | Google Cloud  \\n \\n \\n \\ncloud.google.com \\n \\n1. Question Answering \\n\\uf0b7 \\nAccurate and informative responses: RAG models can access and process a vast \\namount of information, providing comprehensive and relevant answers to user queries.    \\n \\n1. What Is Retrieval Augmented Generation (RAG)? | Google Cloud  \\n \\n \\n \\ncloud.google.com \\n \\n\\uf0b7 \\nContextual understanding: By retrieving relevant information from a knowledge base, \\nRAG models can better understand the context of a question and provide more tailored \\nresponses.    \\n \\n1. What Is Retrieval Augmented Generation (RAG)? | Google Cloud  \\n \\n \\n'),\n",
       " Document(metadata={'source': 'Use Cases of Retrieval.pdf', 'file_path': 'Use Cases of Retrieval.pdf', 'page': 1, 'total_pages': 5, 'format': 'PDF 1.5', 'title': '', 'author': 'Qadri Laptop', 'subject': '', 'keywords': '', 'creator': 'Microsoft® Word 2016', 'producer': 'Microsoft® Word 2016', 'creationDate': \"D:20240823212013+05'00'\", 'modDate': \"D:20240823212013+05'00'\", 'trapped': ''}, page_content=\" \\ncloud.google.com \\n \\n2. Text Summarization \\n\\uf0b7 \\nConcise and informative summaries: RAG models can extract the most important \\ninformation from long texts, creating concise summaries that capture the key points.    \\n \\n1. Harnessing the Power of RAG for Content Creation and Summarization - Harrison \\nClarke  \\n \\n \\n \\nwww.harrisonclarke.com \\n \\n\\uf0b7 \\nCustomizable summaries: By adjusting the parameters of the retrieval and generation \\nmodels, users can customize the level of detail and length of the generated summaries. \\n3. Content Creation \\n\\uf0b7 \\nGenerating creative content: RAG models can be used to generate creative content, \\nsuch as articles, blog posts, and marketing copy.    \\n \\n1. What's The RAGs? How To Unlock Explosive Marketing Success With AI - Forbes  \\n \\n \\n \\n\"),\n",
       " Document(metadata={'source': 'Use Cases of Retrieval.pdf', 'file_path': 'Use Cases of Retrieval.pdf', 'page': 2, 'total_pages': 5, 'format': 'PDF 1.5', 'title': '', 'author': 'Qadri Laptop', 'subject': '', 'keywords': '', 'creator': 'Microsoft® Word 2016', 'producer': 'Microsoft® Word 2016', 'creationDate': \"D:20240823212013+05'00'\", 'modDate': \"D:20240823212013+05'00'\", 'trapped': ''}, page_content='www.forbes.com \\n \\n\\uf0b7 \\nFact-checking and accuracy: By retrieving information from reliable sources, RAG \\nmodels can help ensure the accuracy and reliability of the generated content.    \\n \\n1. What is retrieval-augmented generation (RAG)? - IBM Research  \\n \\n \\n \\nresearch.ibm.com \\n \\n4. Customer Service \\n\\uf0b7 \\nImproving customer satisfaction: RAG-powered chatbots can provide more \\ninformative and accurate responses to customer inquiries, improving customer \\nsatisfaction.    \\n \\n1. What Is Retrieval Augmented Generation (RAG)? | Google Cloud  \\n \\n \\n \\ncloud.google.com \\n \\n\\uf0b7 \\nHandling complex queries: RAG models can handle complex queries that require \\naccess to a large amount of information, such as product specifications or troubleshooting \\nguides.    \\n'),\n",
       " Document(metadata={'source': 'Use Cases of Retrieval.pdf', 'file_path': 'Use Cases of Retrieval.pdf', 'page': 3, 'total_pages': 5, 'format': 'PDF 1.5', 'title': '', 'author': 'Qadri Laptop', 'subject': '', 'keywords': '', 'creator': 'Microsoft® Word 2016', 'producer': 'Microsoft® Word 2016', 'creationDate': \"D:20240823212013+05'00'\", 'modDate': \"D:20240823212013+05'00'\", 'trapped': ''}, page_content=' \\n1. Why SQL for Retrieval-Augmented Generation System | by MyScale - Medium  \\n \\n \\n \\nmedium.com \\n \\n5. Knowledge Management \\n\\uf0b7 \\nOrganizing and retrieving information: RAG models can be used to organize and \\nretrieve information from large knowledge bases. \\n\\uf0b7 \\nIdentifying relevant information: By understanding the context of a query, RAG \\nmodels can identify the most relevant information and present it to the user.    \\n \\n1. An introduction to RAG: Retrieval Augmented Generation explained - eagerworks  \\n \\n \\n \\neagerworks.com \\n \\n6. Research and Development \\n\\uf0b7 \\nAccelerating research: RAG models can help researchers access and analyze large \\namounts of data, accelerating the research process.    \\n \\n1. Data processing re-imagined with RAG technology | İnnova  \\n'),\n",
       " Document(metadata={'source': 'Use Cases of Retrieval.pdf', 'file_path': 'Use Cases of Retrieval.pdf', 'page': 4, 'total_pages': 5, 'format': 'PDF 1.5', 'title': '', 'author': 'Qadri Laptop', 'subject': '', 'keywords': '', 'creator': 'Microsoft® Word 2016', 'producer': 'Microsoft® Word 2016', 'creationDate': \"D:20240823212013+05'00'\", 'modDate': \"D:20240823212013+05'00'\", 'trapped': ''}, page_content=' \\n \\n \\nwww.innova.com.tr \\n \\n\\uf0b7 \\nDiscovering new insights: By combining information from different sources, RAG \\nmodels can help researchers discover new insights and trends. \\n7. Personalized Recommendations \\n\\uf0b7 \\nTailored recommendations: RAG models can be used to provide personalized \\nrecommendations based on user preferences and behavior.    \\n \\n1. 3 Ways RAG Enhances Recommendation Systems for Personalization - MyScale  \\n \\n \\n \\nmyscale.com \\n \\n\\uf0b7 \\nImproving user experience: By offering relevant and interesting recommendations, \\nRAG models can improve the user experience and increase engagement. \\nThese are just a few examples of the many potential use cases for RAG. As the technology \\ncontinues to evolve, we can expect to see even more innovative applications in the future. \\nSources and related content \\n \\n \\n \\n')]"
      ]
     },
     "execution_count": 19,
     "metadata": {},
     "output_type": "execute_result"
    }
   ],
   "source": [
    "data = loader.load()\n",
    "data = loader.load()\n",
    "data"
   ]
  },
  {
   "cell_type": "markdown",
   "metadata": {},
   "source": [
    "**Using Unstructured**\n",
    "\n",
    "The unstructured[all-docs] package currently supports loading of text files, powerpoints, html, pdfs, images, and more."
   ]
  },
  {
   "cell_type": "code",
   "execution_count": 20,
   "metadata": {},
   "outputs": [],
   "source": [
    "from langchain_community.document_loaders import UnstructuredPDFLoader"
   ]
  },
  {
   "cell_type": "code",
   "execution_count": null,
   "metadata": {},
   "outputs": [],
   "source": [
    "loader = UnstructuredPDFLoader(\"example_data/layout-parser-paper.pdf\")\n",
    "data = loader.load()"
   ]
  },
  {
   "cell_type": "code",
   "execution_count": null,
   "metadata": {},
   "outputs": [],
   "source": []
  }
 ],
 "metadata": {
  "kernelspec": {
   "display_name": "Python 3",
   "language": "python",
   "name": "python3"
  },
  "language_info": {
   "codemirror_mode": {
    "name": "ipython",
    "version": 3
   },
   "file_extension": ".py",
   "mimetype": "text/x-python",
   "name": "python",
   "nbconvert_exporter": "python",
   "pygments_lexer": "ipython3",
   "version": "3.10.0"
  }
 },
 "nbformat": 4,
 "nbformat_minor": 2
}
